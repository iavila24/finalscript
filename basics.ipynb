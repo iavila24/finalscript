{
 "cells": [
  {
   "cell_type": "code",
   "execution_count": null,
   "metadata": {},
   "outputs": [
    {
     "name": "stdout",
     "output_type": "stream",
     "text": [
      "Hola Juanelo!!!\n"
     ]
    }
   ],
   "source": [
    "print('Hola Mundo')"
   ]
  },
  {
   "cell_type": "code",
   "execution_count": 6,
   "metadata": {},
   "outputs": [],
   "source": [
    "age = 31\n",
    "temperature = 38.5\n",
    "name = \"Profe Python\"\n",
    "is_cool = True\n",
    "numbers = [1, 2, 3, 5, 6]\n",
    "tuplas = (\"Uno\",\"Dos\",\"Tres\")\n",
    "series = set([1,2,3,4,5,6,1]) # Los sets no repiten valores"
   ]
  },
  {
   "cell_type": "code",
   "execution_count": 7,
   "metadata": {},
   "outputs": [
    {
     "name": "stdout",
     "output_type": "stream",
     "text": [
      "<class 'int'>\n",
      "<class 'list'>\n",
      "<class 'bool'>\n",
      "<class 'float'>\n",
      "{1, 2, 3, 4, 5, 6}\n"
     ]
    }
   ],
   "source": [
    "print(type(age))\n",
    "print(type(numbers))\n",
    "print(type(is_cool))\n",
    "print(type(temperature))\n",
    "print(series)"
   ]
  },
  {
   "attachments": {},
   "cell_type": "markdown",
   "metadata": {},
   "source": [
    "### Operadores\n",
    "\n",
    "1. \\+\n",
    "2. \\-\n",
    "3. \\*\n",
    "4. /\n",
    "5. //\n",
    "6. %"
   ]
  },
  {
   "cell_type": "code",
   "execution_count": 8,
   "metadata": {},
   "outputs": [
    {
     "name": "stdout",
     "output_type": "stream",
     "text": [
      "0\n"
     ]
    }
   ],
   "source": [
    "print(6%2)"
   ]
  },
  {
   "cell_type": "code",
   "execution_count": 9,
   "metadata": {},
   "outputs": [
    {
     "name": "stdout",
     "output_type": "stream",
     "text": [
      "6.25\n"
     ]
    }
   ],
   "source": [
    "print(25/4)"
   ]
  },
  {
   "cell_type": "code",
   "execution_count": 10,
   "metadata": {},
   "outputs": [
    {
     "name": "stdout",
     "output_type": "stream",
     "text": [
      "6\n"
     ]
    }
   ],
   "source": [
    "print(25//4)"
   ]
  },
  {
   "cell_type": "code",
   "execution_count": 11,
   "metadata": {},
   "outputs": [
    {
     "name": "stdout",
     "output_type": "stream",
     "text": [
      "Wohooo!Wohooo!Wohooo!Wohooo!Wohooo!\n"
     ]
    }
   ],
   "source": [
    "print('Wohooo!' * 5)"
   ]
  },
  {
   "cell_type": "code",
   "execution_count": 12,
   "metadata": {},
   "outputs": [
    {
     "name": "stdout",
     "output_type": "stream",
     "text": [
      "Aviso por alta temperatura\n"
     ]
    }
   ],
   "source": [
    "temperature = 40\n",
    "\n",
    "if temperature > 35:\n",
    "    print('Aviso por alta temperatura')\n"
   ]
  },
  {
   "cell_type": "code",
   "execution_count": 17,
   "metadata": {},
   "outputs": [
    {
     "name": "stdout",
     "output_type": "stream",
     "text": [
      "Eres mayor de edad\n"
     ]
    }
   ],
   "source": [
    "age = int(input(\"Dame tu edad: \"))\n",
    "\n",
    "def isAdult(age):\n",
    "    if age > 18:\n",
    "        print(\"Eres mayor de edad\")\n",
    "    else:\n",
    "        print(\"Eres menor de edad\")\n",
    "\n",
    "isAdult(age)\n"
   ]
  },
  {
   "attachments": {},
   "cell_type": "markdown",
   "metadata": {},
   "source": [
    "##### Guess a number please 🎈\n",
    "\n",
    "1. Elegir un numero random (PC)\n",
    "2. Yo le digo un numero\n",
    "3. Si el numero es mas grande le digo que esta high\n",
    "4. Si el numero es mas chico le digo esta low"
   ]
  },
  {
   "cell_type": "code",
   "execution_count": 31,
   "metadata": {},
   "outputs": [
    {
     "name": "stdout",
     "output_type": "stream",
     "text": [
      "El numero al azar es: 69\n",
      "Te huiste muy abajo\n",
      "Te huiste muy abajo\n",
      "Te huiste muy arriba.\n",
      "El numero era: 69\n"
     ]
    }
   ],
   "source": [
    "import random \n",
    "\n",
    "def guess(top):\n",
    "    random_number = random.randint(1, top)\n",
    "    print(f\"El numero al azar es: {random_number}\")\n",
    "    guess = 0\n",
    "    while guess != random_number:\n",
    "        guess = int(input(\"Adivinina el numero: \"))\n",
    "        if guess > random_number:\n",
    "            print(\"Te huiste muy arriba.\")\n",
    "        elif guess < random_number:\n",
    "            print(\"Te huiste muy abajo\")\n",
    "    \n",
    "    print(f\"Felicidades!!! el numero era: {guess}\")\n",
    "\n",
    "guess(100)"
   ]
  },
  {
   "attachments": {},
   "cell_type": "markdown",
   "metadata": {},
   "source": [
    "#### Consumir una API con python (primer parte)\n",
    "Libreria request"
   ]
  },
  {
   "cell_type": "code",
   "execution_count": 33,
   "metadata": {},
   "outputs": [
    {
     "name": "stdout",
     "output_type": "stream",
     "text": [
      "{\n",
      "  \"userId\": 1,\n",
      "  \"id\": 1,\n",
      "  \"title\": \"delectus aut autem\",\n",
      "  \"completed\": false\n",
      "}\n"
     ]
    }
   ],
   "source": [
    "import requests\n",
    "\n",
    "x = requests.get('https://jsonplaceholder.typicode.com/todos/1')\n",
    "\n",
    "print(x.text)"
   ]
  },
  {
   "cell_type": "code",
   "execution_count": null,
   "metadata": {},
   "outputs": [],
   "source": []
  }
 ],
 "metadata": {
  "kernelspec": {
   "display_name": "Python 3 (ipykernel)",
   "language": "python",
   "name": "python3"
  },
  "language_info": {
   "codemirror_mode": {
    "name": "ipython",
    "version": 3
   },
   "file_extension": ".py",
   "mimetype": "text/x-python",
   "name": "python",
   "nbconvert_exporter": "python",
   "pygments_lexer": "ipython3",
   "version": "3.8.8"
  }
 },
 "nbformat": 4,
 "nbformat_minor": 4
}
